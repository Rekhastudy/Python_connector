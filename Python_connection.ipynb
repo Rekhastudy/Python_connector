{
 "cells": [
  {
   "cell_type": "code",
   "execution_count": 5,
   "id": "3ce77c0a-fae8-45f6-9f41-acdc337cc3f4",
   "metadata": {},
   "outputs": [
    {
     "name": "stdout",
     "output_type": "stream",
     "text": [
      "Requirement already satisfied: mysql-connector-python in c:\\users\\ashis\\anaconda3\\lib\\site-packages (9.0.0)\n"
     ]
    }
   ],
   "source": [
    "!pip install mysql-connector-python"
   ]
  },
  {
   "cell_type": "code",
   "execution_count": 19,
   "id": "4932f3e6-9401-4170-9276-e47756c80a38",
   "metadata": {},
   "outputs": [
    {
     "name": "stdout",
     "output_type": "stream",
     "text": [
      "You're connected to database: ('Rekha', 1234, 'Probability')\n"
     ]
    }
   ],
   "source": [
    "# created config file in notepad\n",
    "import mysql.connector\n",
    "from configparser import ConfigParser\n",
    "\n",
    "# Read config file\n",
    "config = ConfigParserser()\n",
    "config.read('config.ini')\n",
    "    \n",
    "connection = mysql.connector.connect(\n",
    "    host=config['mysql']['host'],\n",
    "    user=config['mysql']['user'],\n",
    "    password=config['mysql']['password'],\n",
    "    database=config['mysql']['database']\n",
    ")\n",
    "\n",
    "cursor = connection.cursor()\n",
    "cursor.execute(\"SELECT * from student\")\n",
    "print(f\"You're connected to database: {cursor.fetchone()}\")\n",
    "connection.close()\n"
   ]
  },
  {
   "cell_type": "code",
   "execution_count": 11,
   "id": "bdda358c-8761-4401-8de8-9aa409f5a96e",
   "metadata": {},
   "outputs": [
    {
     "name": "stdout",
     "output_type": "stream",
     "text": [
      "You're connected to database: ('Rekha', 1234, 'Probability')\n"
     ]
    }
   ],
   "source": [
    "# credential in Environment variables\n",
    "# type -setx DB_USER \"root\"- in cmd\n",
    "\n",
    "import mysql.connector\n",
    "import os\n",
    "\n",
    "# Fetch credentials from environment variables\n",
    "connection = mysql.connector.connect(\n",
    "    host=os.getenv('DB_HOST'),\n",
    "    user=os.getenv('DB_USER'),\n",
    "    password=os.getenv('DB_PASSWORD'),\n",
    "    database=os.getenv('DB_NAME')\n",
    ")\n",
    "\n",
    "cursor = connection.cursor()\n",
    "cursor.execute(\"SELECT * from student;\")\n",
    "print(f\"You're connected to database: {cursor.fetchone()}\")\n",
    "connection.close()"
   ]
  },
  {
   "cell_type": "code",
   "execution_count": 1,
   "id": "0ca0fa7d-35ae-44a1-9289-c5b14f29fd3b",
   "metadata": {},
   "outputs": [
    {
     "name": "stdout",
     "output_type": "stream",
     "text": [
      "origin\thttps://github.com/Rekhastudy/Rekha_developer.git (fetch)\n",
      "origin\thttps://github.com/Rekhastudy/Rekha_developer.git (push)\n"
     ]
    }
   ],
   "source": [
    "!git remote -v"
   ]
  },
  {
   "cell_type": "code",
   "execution_count": 3,
   "id": "84e1b3bc-b9af-45db-bd1a-fcb6520a69d3",
   "metadata": {},
   "outputs": [
    {
     "name": "stdout",
     "output_type": "stream",
     "text": [
      "Hello developer!\n"
     ]
    }
   ],
   "source": [
    "print(\"Hello developer!\")"
   ]
  },
  {
   "cell_type": "code",
   "execution_count": 5,
   "id": "bbc41ad3-54ca-4af0-a9d9-88b78cfa7bbb",
   "metadata": {},
   "outputs": [
    {
     "name": "stdout",
     "output_type": "stream",
     "text": [
      "On branch Python_connector_1\n",
      "Your branch is up to date with 'origin/Python_connector_1'.\n",
      "\n",
      "Changes not staged for commit:\n",
      "  (use \"git add <file>...\" to update what will be committed)\n",
      "  (use \"git restore <file>...\" to discard changes in working directory)\n",
      "\tmodified:   Python_connection.ipynb\n",
      "\n",
      "Untracked files:\n",
      "  (use \"git add <file>...\" to include in what will be committed)\n",
      "\t.ipynb_checkpoints/\n",
      "\n",
      "no changes added to commit (use \"git add\" and/or \"git commit -a\")\n"
     ]
    }
   ],
   "source": [
    "!git status"
   ]
  },
  {
   "cell_type": "code",
   "execution_count": 7,
   "id": "30e4e957-704a-4191-962b-fdb02f56e743",
   "metadata": {},
   "outputs": [
    {
     "name": "stdout",
     "output_type": "stream",
     "text": [
      "On branch Python_connector_1\n",
      "Your branch is up to date with 'origin/Python_connector_1'.\n",
      "\n",
      "Changes not staged for commit:\n",
      "  (use \"git add <file>...\" to update what will be committed)\n",
      "  (use \"git restore <file>...\" to discard changes in working directory)\n",
      "\tmodified:   Python_connection.ipynb\n",
      "\n",
      "Untracked files:\n",
      "  (use \"git add <file>...\" to include in what will be committed)\n",
      "\t.ipynb_checkpoints/\n",
      "\n",
      "no changes added to commit (use \"git add\" and/or \"git commit -a\")\n"
     ]
    }
   ],
   "source": [
    "!git status"
   ]
  },
  {
   "cell_type": "code",
   "execution_count": 1,
   "id": "a0e10bff-de60-448e-989b-cac514bded13",
   "metadata": {},
   "outputs": [
    {
     "name": "stdout",
     "output_type": "stream",
     "text": [
      "Hello Rekha\n"
     ]
    }
   ],
   "source": [
    "print(\"Hello Rekha\")"
   ]
  },
  {
   "cell_type": "code",
   "execution_count": 7,
   "id": "dc5e6644-8907-4254-866a-fdea4385eefe",
   "metadata": {},
   "outputs": [
    {
     "name": "stdout",
     "output_type": "stream",
     "text": [
      "You are genious and Ashish is super genious\n"
     ]
    }
   ],
   "source": [
    "print(\"You are genious and Ashish is super genious\")"
   ]
  },
  {
   "cell_type": "code",
   "execution_count": 13,
   "id": "3d4f9c74-c5cf-47a5-9db9-b4faca712611",
   "metadata": {},
   "outputs": [
    {
     "name": "stderr",
     "output_type": "stream",
     "text": [
      "warning: LF will be replaced by CRLF in Python_connection.ipynb.\n",
      "The file will have its original line endings in your working directory\n"
     ]
    }
   ],
   "source": [
    "!git add ."
   ]
  },
  {
   "cell_type": "code",
   "execution_count": 15,
   "id": "6770bbff-e30b-49ae-b413-832dd55b51b7",
   "metadata": {},
   "outputs": [
    {
     "name": "stdout",
     "output_type": "stream",
     "text": [
      "[Python_connector_1 f7da24d] This is I observed\n",
      " 2 files changed, 292 insertions(+), 1 deletion(-)\n",
      " create mode 100644 .ipynb_checkpoints/Python_connection-checkpoint.ipynb\n"
     ]
    }
   ],
   "source": [
    "!git commit -m \"This is I observed\""
   ]
  },
  {
   "cell_type": "code",
   "execution_count": 17,
   "id": "170ecaa9-cc34-476c-b09c-56fe572404cd",
   "metadata": {},
   "outputs": [
    {
     "name": "stderr",
     "output_type": "stream",
     "text": [
      "To https://github.com/Rekhastudy/Rekha_developer.git\n",
      "   2b42130..f7da24d  Python_connector_1 -> Python_connector_1\n"
     ]
    }
   ],
   "source": [
    "!git push"
   ]
  },
  {
   "cell_type": "code",
   "execution_count": 1,
   "id": "b505e3c4-e7fa-4899-8c51-04d2fb903c5d",
   "metadata": {},
   "outputs": [
    {
     "name": "stdout",
     "output_type": "stream",
     "text": [
      "I am done\n"
     ]
    }
   ],
   "source": [
    "print(\"I am done\")"
   ]
  },
  {
   "cell_type": "code",
   "execution_count": 3,
   "id": "a4c77d83-b96b-4a3c-9d95-1f1c7242c504",
   "metadata": {},
   "outputs": [],
   "source": [
    "!git add "
   ]
  },
  {
   "cell_type": "code",
   "execution_count": 5,
   "id": "e2172305-d37c-4962-a341-3fc812b49bb9",
   "metadata": {},
   "outputs": [
    {
     "name": "stdout",
     "output_type": "stream",
     "text": [
      "On branch Python_connector_1\n",
      "Your branch is up to date with 'origin/Python_connector_1'.\n",
      "\n",
      "Changes not staged for commit:\n",
      "  (use \"git add <file>...\" to update what will be committed)\n",
      "  (use \"git restore <file>...\" to discard changes in working directory)\n",
      "\tmodified:   Python_connection.ipynb\n",
      "\n",
      "no changes added to commit (use \"git add\" and/or \"git commit -a\")\n"
     ]
    }
   ],
   "source": [
    "!git commit -m \"test\""
   ]
  },
  {
   "cell_type": "code",
   "execution_count": null,
   "id": "9af798b7-a7cd-4b81-b9d1-d13af26820ae",
   "metadata": {},
   "outputs": [],
   "source": []
  }
 ],
 "metadata": {
  "kernelspec": {
   "display_name": "Python 3 (ipykernel)",
   "language": "python",
   "name": "python3"
  },
  "language_info": {
   "codemirror_mode": {
    "name": "ipython",
    "version": 3
   },
   "file_extension": ".py",
   "mimetype": "text/x-python",
   "name": "python",
   "nbconvert_exporter": "python",
   "pygments_lexer": "ipython3",
   "version": "3.12.4"
  }
 },
 "nbformat": 4,
 "nbformat_minor": 5
}

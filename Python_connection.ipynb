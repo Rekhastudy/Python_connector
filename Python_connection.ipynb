{
 "cells": [
  {
   "cell_type": "code",
   "execution_count": 5,
   "id": "3ce77c0a-fae8-45f6-9f41-acdc337cc3f4",
   "metadata": {},
   "outputs": [
    {
     "name": "stdout",
     "output_type": "stream",
     "text": [
      "Requirement already satisfied: mysql-connector-python in c:\\users\\ashis\\anaconda3\\lib\\site-packages (9.0.0)\n"
     ]
    }
   ],
   "source": [
    "!pip install mysql-connector-python"
   ]
  },
  {
   "cell_type": "code",
   "execution_count": 19,
   "id": "4932f3e6-9401-4170-9276-e47756c80a38",
   "metadata": {},
   "outputs": [
    {
     "name": "stdout",
     "output_type": "stream",
     "text": [
      "You're connected to database: ('Rekha', 1234, 'Probability')\n"
     ]
    }
   ],
   "source": [
    "# created config file in notepad\n",
    "import mysql.connector\n",
    "from configparser import ConfigParser\n",
    "\n",
    "# Read config file\n",
    "config = ConfigParserser()\n",
    "config.read('config.ini')\n",
    "    \n",
    "connection = mysql.connector.connect(\n",
    "    host=config['mysql']['host'],\n",
    "    user=config['mysql']['user'],\n",
    "    password=config['mysql']['password'],\n",
    "    database=config['mysql']['database']\n",
    ")\n",
    "\n",
    "cursor = connection.cursor()\n",
    "cursor.execute(\"SELECT * from student\")\n",
    "print(f\"You're connected to database: {cursor.fetchone()}\")\n",
    "connection.close()\n"
   ]
  },
  {
   "cell_type": "code",
   "execution_count": 11,
   "id": "bdda358c-8761-4401-8de8-9aa409f5a96e",
   "metadata": {},
   "outputs": [
    {
     "name": "stdout",
     "output_type": "stream",
     "text": [
      "You're connected to database: ('Rekha', 1234, 'Probability')\n"
     ]
    }
   ],
   "source": [
    "# credential in Environment variables\n",
    "# type -setx DB_USER \"root\"- in cmd\n",
    "\n",
    "import mysql.connector\n",
    "import os\n",
    "\n",
    "# Fetch credentials from environment variables\n",
    "connection = mysql.connector.connect(\n",
    "    host=os.getenv('DB_HOST'),\n",
    "    user=os.getenv('DB_USER'),\n",
    "    password=os.getenv('DB_PASSWORD'),\n",
    "    database=os.getenv('DB_NAME')\n",
    ")\n",
    "\n",
    "cursor = connection.cursor()\n",
    "cursor.execute(\"SELECT * from student;\")\n",
    "print(f\"You're connected to database: {cursor.fetchone()}\")\n",
    "connection.close()"
   ]
  },
  {
   "cell_type": "code",
   "execution_count": null,
   "id": "0ca0fa7d-35ae-44a1-9289-c5b14f29fd3b",
   "metadata": {},
   "outputs": [],
   "source": []
  }
 ],
 "metadata": {
  "kernelspec": {
   "display_name": "Python 3 (ipykernel)",
   "language": "python",
   "name": "python3"
  },
  "language_info": {
   "codemirror_mode": {
    "name": "ipython",
    "version": 3
   },
   "file_extension": ".py",
   "mimetype": "text/x-python",
   "name": "python",
   "nbconvert_exporter": "python",
   "pygments_lexer": "ipython3",
   "version": "3.12.4"
  }
 },
 "nbformat": 4,
 "nbformat_minor": 5
}

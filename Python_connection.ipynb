{
 "cells": [
  {
   "cell_type": "code",
   "execution_count": 5,
   "id": "3ce77c0a-fae8-45f6-9f41-acdc337cc3f4",
   "metadata": {},
   "outputs": [
    {
     "name": "stdout",
     "output_type": "stream",
     "text": [
      "Requirement already satisfied: mysql-connector-python in c:\\users\\ashis\\anaconda3\\lib\\site-packages (9.0.0)\n"
     ]
    }
   ],
   "source": [
    "!pip install mysql-connector-python"
   ]
  },
  {
   "cell_type": "code",
   "execution_count": 19,
   "id": "4932f3e6-9401-4170-9276-e47756c80a38",
   "metadata": {},
   "outputs": [
    {
     "name": "stdout",
     "output_type": "stream",
     "text": [
      "You're connected to database: ('Rekha', 1234, 'Probability')\n"
     ]
    }
   ],
   "source": [
    "# created config file in notepad\n",
    "import mysql.connector\n",
    "from configparser import ConfigParser\n",
    "\n",
    "# Read config file\n",
    "config = ConfigParserser()\n",
    "config.read('config.ini')\n",
    "    \n",
    "connection = mysql.connector.connect(\n",
    "    host=config['mysql']['host'],\n",
    "    user=config['mysql']['user'],\n",
    "    password=config['mysql']['password'],\n",
    "    database=config['mysql']['database']\n",
    ")\n",
    "\n",
    "cursor = connection.cursor()\n",
    "cursor.execute(\"SELECT * from student\")\n",
    "print(f\"You're connected to database: {cursor.fetchone()}\")\n",
    "connection.close()\n"
   ]
  },
  {
   "cell_type": "code",
   "execution_count": 11,
   "id": "bdda358c-8761-4401-8de8-9aa409f5a96e",
   "metadata": {},
   "outputs": [
    {
     "name": "stdout",
     "output_type": "stream",
     "text": [
      "You're connected to database: ('Rekha', 1234, 'Probability')\n"
     ]
    }
   ],
   "source": [
    "# credential in Environment variables\n",
    "# type -setx DB_USER \"root\"- in cmd\n",
    "\n",
    "import mysql.connector\n",
    "import os\n",
    "\n",
    "# Fetch credentials from environment variables\n",
    "connection = mysql.connector.connect(\n",
    "    host=os.getenv('DB_HOST'),\n",
    "    user=os.getenv('DB_USER'),\n",
    "    password=os.getenv('DB_PASSWORD'),\n",
    "    database=os.getenv('DB_NAME')\n",
    ")\n",
    "\n",
    "cursor = connection.cursor()\n",
    "cursor.execute(\"SELECT * from student;\")\n",
    "print(f\"You're connected to database: {cursor.fetchone()}\")\n",
    "connection.close()"
   ]
  },
  {
   "cell_type": "code",
   "execution_count": 1,
   "id": "0ca0fa7d-35ae-44a1-9289-c5b14f29fd3b",
   "metadata": {},
   "outputs": [
    {
     "name": "stdout",
     "output_type": "stream",
     "text": [
      "origin\thttps://github.com/Rekhastudy/Rekha_developer.git (fetch)\n",
      "origin\thttps://github.com/Rekhastudy/Rekha_developer.git (push)\n"
     ]
    }
   ],
   "source": [
    "!git remote -v"
   ]
  },
  {
   "cell_type": "code",
   "execution_count": 3,
   "id": "84e1b3bc-b9af-45db-bd1a-fcb6520a69d3",
   "metadata": {},
   "outputs": [
    {
     "name": "stdout",
     "output_type": "stream",
     "text": [
      "Hello developer!\n"
     ]
    }
   ],
   "source": [
    "print(\"Hello developer!\")"
   ]
  },
  {
   "cell_type": "code",
   "execution_count": 5,
   "id": "bbc41ad3-54ca-4af0-a9d9-88b78cfa7bbb",
   "metadata": {},
   "outputs": [
    {
     "name": "stdout",
     "output_type": "stream",
     "text": [
      "On branch Python_connector_1\n",
      "Your branch is up to date with 'origin/Python_connector_1'.\n",
      "\n",
      "Changes not staged for commit:\n",
      "  (use \"git add <file>...\" to update what will be committed)\n",
      "  (use \"git restore <file>...\" to discard changes in working directory)\n",
      "\tmodified:   Python_connection.ipynb\n",
      "\n",
      "Untracked files:\n",
      "  (use \"git add <file>...\" to include in what will be committed)\n",
      "\t.ipynb_checkpoints/\n",
      "\n",
      "no changes added to commit (use \"git add\" and/or \"git commit -a\")\n"
     ]
    }
   ],
   "source": [
    "!git status"
   ]
  },
  {
   "cell_type": "code",
   "execution_count": 7,
   "id": "30e4e957-704a-4191-962b-fdb02f56e743",
   "metadata": {},
   "outputs": [
    {
     "name": "stdout",
     "output_type": "stream",
     "text": [
      "On branch Python_connector_1\n",
      "Your branch is up to date with 'origin/Python_connector_1'.\n",
      "\n",
      "Changes not staged for commit:\n",
      "  (use \"git add <file>...\" to update what will be committed)\n",
      "  (use \"git restore <file>...\" to discard changes in working directory)\n",
      "\tmodified:   Python_connection.ipynb\n",
      "\n",
      "Untracked files:\n",
      "  (use \"git add <file>...\" to include in what will be committed)\n",
      "\t.ipynb_checkpoints/\n",
      "\n",
      "no changes added to commit (use \"git add\" and/or \"git commit -a\")\n"
     ]
    }
   ],
   "source": [
    "!git status"
   ]
  },
  {
   "cell_type": "code",
   "execution_count": 9,
   "id": "262c1d04-ef4d-40c5-89a6-4a3d994afa43",
   "metadata": {},
   "outputs": [
    {
     "name": "stderr",
     "output_type": "stream",
     "text": [
      "fatal: pathspec 'Python_connection.pynb' did not match any files\n"
     ]
    }
   ],
   "source": [
    "!git add Python_connection.pynb"
   ]
  },
  {
   "cell_type": "code",
   "execution_count": 11,
   "id": "48275156-ddff-4076-b87d-d4f780dc4e34",
   "metadata": {},
   "outputs": [
    {
     "name": "stderr",
     "output_type": "stream",
     "text": [
      "fatal: pathspec 'Python_connection' did not match any files\n"
     ]
    }
   ],
   "source": [
    "!git add Python_connection"
   ]
  },
  {
   "cell_type": "code",
   "execution_count": null,
   "id": "a0e10bff-de60-448e-989b-cac514bded13",
   "metadata": {},
   "outputs": [],
   "source": []
  }
 ],
 "metadata": {
  "kernelspec": {
   "display_name": "Python 3 (ipykernel)",
   "language": "python",
   "name": "python3"
  },
  "language_info": {
   "codemirror_mode": {
    "name": "ipython",
    "version": 3
   },
   "file_extension": ".py",
   "mimetype": "text/x-python",
   "name": "python",
   "nbconvert_exporter": "python",
   "pygments_lexer": "ipython3",
   "version": "3.12.4"
  }
 },
 "nbformat": 4,
 "nbformat_minor": 5
}
